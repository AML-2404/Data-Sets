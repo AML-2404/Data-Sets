{
 "cells": [
  {
   "cell_type": "code",
   "execution_count": 7,
   "id": "c5fff960",
   "metadata": {},
   "outputs": [],
   "source": [
    "# https://dida.do/blog/how-to-implement-a-labeling-tool-for-image-classification-in-a-jupyter-notebook\n",
    "\n",
    "from pathlib import Path\n",
    "from ipywidgets import Output, Button, Layout, HBox\n",
    "from IPython.display import Image, display, clear_output\n"
   ]
  },
  {
   "cell_type": "code",
   "execution_count": 8,
   "id": "38c0b7a6",
   "metadata": {},
   "outputs": [
    {
     "data": {
      "text/plain": [
       "['img_1.jpg', 'img_2.jpg']"
      ]
     },
     "execution_count": 8,
     "metadata": {},
     "output_type": "execute_result"
    }
   ],
   "source": [
    "classes = [\"disease_1\", \"disease_2\"]\n",
    "# store path and search for .jpg images in path\n",
    "path = Path(\"./data\")\n",
    "images = [img.name for img in path.glob(\"*.jpg\")]\n",
    "images"
   ]
  },
  {
   "cell_type": "code",
   "execution_count": 9,
   "id": "312a2549",
   "metadata": {},
   "outputs": [],
   "source": [
    "# set up empty dict for labels and initial position\n",
    "labels = {}\n",
    "position = 0\n",
    "\n",
    "\n",
    "image = Image(path / images[position])\n",
    "frame = Output(layout=Layout(height=\"300px\", max_width=\"300px\"))\n",
    "with frame:\n",
    "    display(image)"
   ]
  },
  {
   "cell_type": "code",
   "execution_count": 39,
   "id": "6f6ecd19",
   "metadata": {},
   "outputs": [
    {
     "data": {
      "application/vnd.jupyter.widget-view+json": {
       "model_id": "357e61a571054491b4d9802799142872",
       "version_major": 2,
       "version_minor": 0
      },
      "text/plain": [
       "Output(layout=Layout(height='300px', max_width='300px'), outputs=({'output_type': 'display_data', 'data': {'im…"
      ]
     },
     "metadata": {},
     "output_type": "display_data"
    },
    {
     "data": {
      "application/vnd.jupyter.widget-view+json": {
       "model_id": "9eba2fa9d02f46b488f7d5259ea97e30",
       "version_major": 2,
       "version_minor": 0
      },
      "text/plain": [
       "HBox(children=(Button(description='next >', style=ButtonStyle()),))"
      ]
     },
     "metadata": {},
     "output_type": "display_data"
    },
    {
     "data": {
      "application/vnd.jupyter.widget-view+json": {
       "model_id": "57674d45cf794eaa871ccb694b91541a",
       "version_major": 2,
       "version_minor": 0
      },
      "text/plain": [
       "HBox(children=(Button(description='disease_1', style=ButtonStyle()), Button(description='disease_2', style=But…"
      ]
     },
     "metadata": {},
     "output_type": "display_data"
    }
   ],
   "source": [
    "# Adding navigation buttons\n",
    "\n",
    "def next_image(*args) -> None:\n",
    "    \"\"\"Select the next image and update the displays.\"\"\"\n",
    "    global position, image\n",
    "\n",
    "    # update position\n",
    "    position += 1\n",
    "    if position == len(images):\n",
    "        position = 0\n",
    "\n",
    "    # refresh display\n",
    "    image = Image(path / images[position])\n",
    "    with frame:\n",
    "        clear_output(wait=True)\n",
    "        display(image)\n",
    "        \n",
    "forward_button = Button(description=\"next >\")\n",
    "forward_button.on_click(next_image)\n",
    "navigation_buttons = [forward_button]\n",
    "\n",
    "def store_label(button: Button) -> None:\n",
    "    \"\"\"Annotates the current image with the button's description.\"\"\"\n",
    "    global labels\n",
    "\n",
    "    # store the assigned label\n",
    "    current_image = images[position]\n",
    "    labels[current_image] = button.description\n",
    "\n",
    "    # move to next image\n",
    "    next_image()\n",
    "\n",
    "class_buttons = []\n",
    "for label in classes:\n",
    "    label_button = Button(description=label)\n",
    "    label_button.on_click(store_label)\n",
    "    class_buttons.append(label_button)\n",
    "    \n",
    "display(frame)\n",
    "display(HBox(navigation_buttons))\n",
    "display(HBox(class_buttons))"
   ]
  },
  {
   "cell_type": "code",
   "execution_count": 41,
   "id": "03fc0201",
   "metadata": {},
   "outputs": [
    {
     "name": "stdout",
     "output_type": "stream",
     "text": [
      "{'img_2.jpg': 'disease_2', 'img_1.jpg': 'disease_1'}\n"
     ]
    }
   ],
   "source": [
    "print(labels)"
   ]
  },
  {
   "cell_type": "code",
   "execution_count": null,
   "id": "7fd0363a",
   "metadata": {},
   "outputs": [],
   "source": []
  }
 ],
 "metadata": {
  "kernelspec": {
   "display_name": "Python 3 (ipykernel)",
   "language": "python",
   "name": "python3"
  },
  "language_info": {
   "codemirror_mode": {
    "name": "ipython",
    "version": 3
   },
   "file_extension": ".py",
   "mimetype": "text/x-python",
   "name": "python",
   "nbconvert_exporter": "python",
   "pygments_lexer": "ipython3",
   "version": "3.9.12"
  }
 },
 "nbformat": 4,
 "nbformat_minor": 5
}
